{
 "cells": [
  {
   "cell_type": "code",
   "execution_count": null,
   "metadata": {},
   "outputs": [],
   "source": [
    "import pandas as pd\n",
    "import numpy as np\n",
    "from pathlib import Path"
   ]
  },
  {
   "cell_type": "code",
   "execution_count": null,
   "metadata": {},
   "outputs": [],
   "source": [
    "# load a file that uses , as delimiter\n",
    "def load_file(path, names):\n",
    "    if not path.is_file():\n",
    "        raise FileNotFoundError(str(path))\n",
    "    data = pd.read_csv(path, sep=\",\", names=names, header=None)\n",
    "    return data"
   ]
  },
  {
   "cell_type": "code",
   "execution_count": null,
   "metadata": {},
   "outputs": [],
   "source": [
    "def load_df():\n",
    "    cols = [\"state\", \"emission\"]\n",
    "    file = Path.cwd() / \"data.txt\"\n",
    "    return load_file(file, cols)"
   ]
  },
  {
   "cell_type": "code",
   "execution_count": null,
   "metadata": {
    "scrolled": true
   },
   "outputs": [],
   "source": [
    "data = load_df()\n",
    "data"
   ]
  },
  {
   "cell_type": "code",
   "execution_count": null,
   "metadata": {},
   "outputs": [],
   "source": [
    "def emissionProbability(data):\n",
    "    matrix = data.copy()\n",
    "    #make column for sunny yes, foggy yes, rainy yes\n",
    "    #for sunny, foggy, and rainy put 1 in the row if true\n",
    "    matrix['sunny-yes'] = np.where((matrix['state'] == 'sunny') & (matrix['emission'] == 'yes'),1,0) \n",
    "    matrix['foggy-yes'] = np.where((matrix['state'] == 'foggy') & (matrix['emission'] == 'yes'),1,0)\n",
    "    matrix['rainy-yes'] = np.where((matrix['state'] == 'rainy') & (matrix['emission'] == 'yes'),1,0)\n",
    "    matrix['sunny'] = np.where(matrix['state'] == 'sunny',1,0) \n",
    "    matrix['foggy'] = np.where(matrix['state'] == 'foggy',1,0) \n",
    "    matrix['rainy'] = np.where(matrix['state'] == 'rainy',1,0) \n",
    "    #drop state and emission\n",
    "    matrix = matrix.drop(['state','emission'],axis=1) \n",
    "    #adds all the ones in the columns\n",
    "    matrix = matrix.sum(axis=0)\n",
    "    #calculate probablities of each state\n",
    "    SY=matrix[0]/matrix[4]\n",
    "    SN= 1-SY\n",
    "    FY=matrix[1]/matrix[3]\n",
    "    FN=1-FY\n",
    "    RY=matrix[2]/matrix[5]\n",
    "    RN=1-RY\n",
    "    #create a new dataframe of probablities \n",
    "    matrixData =[[SY,SN],[FY,FN],[RY,RN]]\n",
    "    matrix = pd.DataFrame(matrixData,columns=['yes','no'], index=['sunny','foggy','rainy'])\n",
    "    return matrix\n",
    "b = emissionProbability(data)\n",
    "b"
   ]
  },
  {
   "cell_type": "code",
   "execution_count": null,
   "metadata": {},
   "outputs": [],
   "source": [
    "def stateTransitionProbability(data):\n",
    "    data['next'] = data['state'].shift(periods=-1)\n",
    "    b = pd.DataFrame(data=data.groupby(['state', 'next']).size()).reset_index()\n",
    "    b['subtotal'] = b.groupby('state')[0].transform('sum')\n",
    "    b['prob'] = b[0]/b['subtotal']\n",
    "    b = b.drop([0, 'subtotal'], axis=1)\n",
    "    b = b.pivot(index='state', columns='next', values='prob')\n",
    "    return b"
   ]
  },
  {
   "cell_type": "code",
   "execution_count": null,
   "metadata": {},
   "outputs": [],
   "source": [
    "def seq_to_col(sequence):\n",
    "    new_seq = []\n",
    "    for i, val in enumerate(sequence):\n",
    "        val = f\"({i}) \" + val\n",
    "        new_seq.append(val)\n",
    "    return new_seq"
   ]
  },
  {
   "cell_type": "code",
   "execution_count": null,
   "metadata": {},
   "outputs": [],
   "source": [
    "def probability_of_sequence(data, sequence):\n",
    "    a = stateTransitionProbability(data)\n",
    "    a = a.reindex([\"sunny\", \"foggy\", \"rainy\"], columns=[\"sunny\", \"foggy\", \"rainy\"]) \n",
    "    a = a.to_numpy()\n",
    "    b = emissionProbability(data)\n",
    "    hidden_states = [\"sunny\", \"foggy\", \"rainy\"]\n",
    "    hmm = pd.DataFrame(data={\"0\" : (1.0, 0.0, 0.0)}, index=hidden_states)\n",
    "    hmm = hmm.join(pd.DataFrame(0., columns = sequence, index = hidden_states))\n",
    "    for index in range(1, hmm.shape[1]):\n",
    "        current_obs = hmm.iloc[:, index]\n",
    "        last_obs = hmm.iloc[:, index-1]\n",
    "        for i in range(3):\n",
    "            trans = 0\n",
    "            for j in range(3):\n",
    "                trans += (a[j,i] * last_obs[j])\n",
    "            current_row = hmm.iloc[i]\n",
    "            prob = trans * b.at[current_row.name, current_obs.name[4:]]\n",
    "            current_obs[i] = prob\n",
    "    prob_of_sequence = hmm.iloc[:,-1].sum()\n",
    "    return prob_of_sequence, hmm, a, b"
   ]
  },
  {
   "cell_type": "code",
   "execution_count": null,
   "metadata": {},
   "outputs": [],
   "source": [
    "sequence = [\"yes\", \"no\", \"yes\", \"no\"]"
   ]
  },
  {
   "cell_type": "code",
   "execution_count": null,
   "metadata": {},
   "outputs": [],
   "source": [
    "prob, hmm, a, b = probability_of_sequence(data, seq_to_col(sequence))"
   ]
  },
  {
   "cell_type": "code",
   "execution_count": null,
   "metadata": {},
   "outputs": [],
   "source": [
    "prob"
   ]
  },
  {
   "cell_type": "code",
   "execution_count": null,
   "metadata": {},
   "outputs": [],
   "source": [
    "hmm"
   ]
  },
  {
   "cell_type": "code",
   "execution_count": null,
   "metadata": {},
   "outputs": [],
   "source": [
    "a"
   ]
  },
  {
   "cell_type": "code",
   "execution_count": null,
   "metadata": {},
   "outputs": [],
   "source": [
    "b"
   ]
  },
  {
   "cell_type": "code",
   "execution_count": null,
   "metadata": {},
   "outputs": [],
   "source": []
  }
 ],
 "metadata": {
  "kernelspec": {
   "display_name": "perceptron",
   "language": "python",
   "name": "perceptron"
  },
  "language_info": {
   "codemirror_mode": {
    "name": "ipython",
    "version": 3
   },
   "file_extension": ".py",
   "mimetype": "text/x-python",
   "name": "python",
   "nbconvert_exporter": "python",
   "pygments_lexer": "ipython3",
   "version": "3.7.3"
  }
 },
 "nbformat": 4,
 "nbformat_minor": 2
}
