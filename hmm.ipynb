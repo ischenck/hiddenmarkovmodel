{
 "cells": [
  {
   "cell_type": "markdown",
   "metadata": {},
   "source": [
    "### CECS 550 Project 2: Hidden Markov Model\n",
    "Ian Schenck\n",
    "\n",
    "Victor Castellanos"
   ]
  },
  {
   "cell_type": "code",
   "execution_count": 1,
   "metadata": {},
   "outputs": [],
   "source": [
    "import pandas as pd\n",
    "import numpy as np\n",
    "from pathlib import Path"
   ]
  },
  {
   "cell_type": "code",
   "execution_count": 2,
   "metadata": {},
   "outputs": [],
   "source": [
    "# load a file that uses , as delimiter\n",
    "def load_file(path, names):\n",
    "    if not path.is_file():\n",
    "        raise FileNotFoundError(str(path))\n",
    "    data = pd.read_csv(path, sep=\",\", names=names, header=None)\n",
    "    return data\n",
    "\n",
    "# load data for hmm\n",
    "def load_df():\n",
    "    cols = [\"state\", \"emission\"]\n",
    "    file = Path.cwd() / \"data.txt\"\n",
    "    return load_file(file, cols)\n",
    "\n",
    "# calculate state transition probabilities (a)\n",
    "def state_transition_probability(data):\n",
    "    # add a column of data for the next state after each state\n",
    "    data['next'] = data['state'].shift(periods=-1)\n",
    "    # group by state and next state, and calculate probability for each transition\n",
    "    b = pd.DataFrame(data=data.groupby(['state', 'next']).size()).reset_index()\n",
    "    b['subtotal'] = b.groupby('state')[0].transform('sum')\n",
    "    b['prob'] = b[0]/b['subtotal']\n",
    "    b = b.drop([0, 'subtotal'], axis=1)\n",
    "    # rearrange dataframe to desired shape and order\n",
    "    b = b.pivot(index='state', columns='next', values='prob')\n",
    "    b = b.reindex([\"sunny\", \"foggy\", \"rainy\"], columns=[\"sunny\", \"foggy\", \"rainy\"]) \n",
    "    return b\n",
    "\n",
    "# calculate state -> emission probabilities (b)\n",
    "def emission_probability(data):\n",
    "    # group by state and emission, and calculate probability for each emission\n",
    "    b = pd.DataFrame(data=data.groupby(['state', 'emission'])\n",
    "                     .size()).reset_index()\n",
    "    b['subtotal'] = b.groupby('state')[0].transform('sum')\n",
    "    b['prob'] = b[0]/b['subtotal']\n",
    "    b = b.drop([0, 'subtotal'], axis=1)\n",
    "    # rearrange dataframe to desired shape and order\n",
    "    b = b.pivot(index='state', columns='emission', values='prob')\n",
    "    b = b.reindex([\"sunny\", \"foggy\", \"rainy\"], columns=[\"yes\", \"no\"]) \n",
    "    return b\n",
    "\n",
    "# generate column names for hmm based on sequence of observations\n",
    "def seq_to_col(sequence):\n",
    "    new_seq = []\n",
    "    for i, val in enumerate(sequence):\n",
    "        val = f\"({i}) \" + val\n",
    "        new_seq.append(val)\n",
    "    return new_seq\n",
    "\n",
    "def find_most_likely(hmm):\n",
    "    #find max of each column\n",
    "    i = np.where(hmm == np.amax(hmm))\n",
    "    i = list(zip(i[1],i[0]))\n",
    "    i = pd.DataFrame(i)\n",
    "    #sort the columns max in orders\n",
    "    sorted = i.sort_values(by=[0], inplace = False )\n",
    "    sorted = sorted.reset_index()\n",
    "    \n",
    "    # decide most likely states\n",
    "    most_likely = \"\"\n",
    "    for x in range(0,sorted.shape[0]):\n",
    "        if(x == 0):\n",
    "            pass\n",
    "        elif(sorted[1][x] == 0 ):\n",
    "            most_likely += \"sunny \"\n",
    "        elif(sorted[1][x] == 1):\n",
    "            most_likely += \"foggy \"\n",
    "        else:\n",
    "            most_likely += \"rainy \"\n",
    "    return most_likely[:-1]\n",
    "\n",
    "# calculate probability of given sequence\n",
    "def probability_of_sequence(data, sequence):\n",
    "    sa = state_transition_probability(data)\n",
    "    a = sa.to_numpy()\n",
    "    b = emission_probability(data)\n",
    "    hidden_states = [\"sunny\", \"foggy\", \"rainy\"]\n",
    "    # initialize hmm with starting probabilities (sunny=1.0, foggy=0.0, rainy=0.0)\n",
    "    hmm = pd.DataFrame(data={\"0\" : (1.0, 0.0, 0.0)}, index=hidden_states)\n",
    "    hmm = hmm.join(pd.DataFrame(0., columns = sequence, index = hidden_states))\n",
    "    \n",
    "    # calculate probabilities at each state using \n",
    "    for index in range(1, hmm.shape[1]):\n",
    "        # get current column (for current alpha and emission probabilities)\n",
    "        current_obs = hmm.iloc[:, index]\n",
    "        # get previous column (for previous alpha and transition probabilities)\n",
    "        last_obs = hmm.iloc[:, index-1]\n",
    "        # for each state in current column\n",
    "        for j in range(current_obs.size):\n",
    "            trans = 0\n",
    "            # for each state in previous column\n",
    "            # calculate sum(alpha_i * a_ij)\n",
    "            for i in range(last_obs.size):\n",
    "                trans += (last_obs[i] * a[i,j])\n",
    "            # calculate sum(alpha_i * a_ij) * b_jv(j)  \n",
    "            current_obs[j] = trans * b.at[hmm.iloc[j].name, current_obs.name[4:]]\n",
    "    # probability of events is the sum of the probabilities of the last emission\n",
    "    prob_of_sequence = hmm.iloc[:,-1].sum()\n",
    "    \n",
    "    # calculate most likely sequence\n",
    "    most_likely = find_most_likely(hmm)\n",
    "    \n",
    "    return sa, b, prob_of_sequence, most_likely, hmm"
   ]
  },
  {
   "cell_type": "code",
   "execution_count": 3,
   "metadata": {},
   "outputs": [],
   "source": [
    "data = load_df()"
   ]
  },
  {
   "cell_type": "code",
   "execution_count": 4,
   "metadata": {},
   "outputs": [],
   "source": [
    "# change this sequence to whatever you want\n",
    "sequence = [\"yes\", \"no\", \"yes\", \"no\"]"
   ]
  },
  {
   "cell_type": "code",
   "execution_count": 5,
   "metadata": {},
   "outputs": [],
   "source": [
    "a, b, probability_of_sequence, most_likely_sequence, hmm = probability_of_sequence(data, seq_to_col(sequence))"
   ]
  },
  {
   "cell_type": "code",
   "execution_count": 6,
   "metadata": {},
   "outputs": [
    {
     "data": {
      "text/html": [
       "<div>\n",
       "<style scoped>\n",
       "    .dataframe tbody tr th:only-of-type {\n",
       "        vertical-align: middle;\n",
       "    }\n",
       "\n",
       "    .dataframe tbody tr th {\n",
       "        vertical-align: top;\n",
       "    }\n",
       "\n",
       "    .dataframe thead th {\n",
       "        text-align: right;\n",
       "    }\n",
       "</style>\n",
       "<table border=\"1\" class=\"dataframe\">\n",
       "  <thead>\n",
       "    <tr style=\"text-align: right;\">\n",
       "      <th></th>\n",
       "      <th>0</th>\n",
       "      <th>(0) yes</th>\n",
       "      <th>(1) no</th>\n",
       "      <th>(2) yes</th>\n",
       "      <th>(3) no</th>\n",
       "    </tr>\n",
       "  </thead>\n",
       "  <tbody>\n",
       "    <tr>\n",
       "      <td>sunny</td>\n",
       "      <td>1.0</td>\n",
       "      <td>0.067602</td>\n",
       "      <td>0.065758</td>\n",
       "      <td>0.005106</td>\n",
       "      <td>0.007715</td>\n",
       "    </tr>\n",
       "    <tr>\n",
       "      <td>foggy</td>\n",
       "      <td>0.0</td>\n",
       "      <td>0.045433</td>\n",
       "      <td>0.029941</td>\n",
       "      <td>0.008081</td>\n",
       "      <td>0.005520</td>\n",
       "    </tr>\n",
       "    <tr>\n",
       "      <td>rainy</td>\n",
       "      <td>0.0</td>\n",
       "      <td>0.044484</td>\n",
       "      <td>0.008020</td>\n",
       "      <td>0.013782</td>\n",
       "      <td>0.001994</td>\n",
       "    </tr>\n",
       "  </tbody>\n",
       "</table>\n",
       "</div>"
      ],
      "text/plain": [
       "         0   (0) yes    (1) no   (2) yes    (3) no\n",
       "sunny  1.0  0.067602  0.065758  0.005106  0.007715\n",
       "foggy  0.0  0.045433  0.029941  0.008081  0.005520\n",
       "rainy  0.0  0.044484  0.008020  0.013782  0.001994"
      ]
     },
     "execution_count": 6,
     "metadata": {},
     "output_type": "execute_result"
    }
   ],
   "source": [
    "# show hmm probabilities\n",
    "hmm"
   ]
  },
  {
   "cell_type": "code",
   "execution_count": 7,
   "metadata": {},
   "outputs": [
    {
     "data": {
      "text/html": [
       "<div>\n",
       "<style scoped>\n",
       "    .dataframe tbody tr th:only-of-type {\n",
       "        vertical-align: middle;\n",
       "    }\n",
       "\n",
       "    .dataframe tbody tr th {\n",
       "        vertical-align: top;\n",
       "    }\n",
       "\n",
       "    .dataframe thead th {\n",
       "        text-align: right;\n",
       "    }\n",
       "</style>\n",
       "<table border=\"1\" class=\"dataframe\">\n",
       "  <thead>\n",
       "    <tr style=\"text-align: right;\">\n",
       "      <th>next</th>\n",
       "      <th>sunny</th>\n",
       "      <th>foggy</th>\n",
       "      <th>rainy</th>\n",
       "    </tr>\n",
       "    <tr>\n",
       "      <th>state</th>\n",
       "      <th></th>\n",
       "      <th></th>\n",
       "      <th></th>\n",
       "    </tr>\n",
       "  </thead>\n",
       "  <tbody>\n",
       "    <tr>\n",
       "      <td>sunny</td>\n",
       "      <td>0.795132</td>\n",
       "      <td>0.150101</td>\n",
       "      <td>0.054767</td>\n",
       "    </tr>\n",
       "    <tr>\n",
       "      <td>foggy</td>\n",
       "      <td>0.206897</td>\n",
       "      <td>0.501916</td>\n",
       "      <td>0.291188</td>\n",
       "    </tr>\n",
       "    <tr>\n",
       "      <td>rainy</td>\n",
       "      <td>0.195918</td>\n",
       "      <td>0.224490</td>\n",
       "      <td>0.579592</td>\n",
       "    </tr>\n",
       "  </tbody>\n",
       "</table>\n",
       "</div>"
      ],
      "text/plain": [
       "next      sunny     foggy     rainy\n",
       "state                              \n",
       "sunny  0.795132  0.150101  0.054767\n",
       "foggy  0.206897  0.501916  0.291188\n",
       "rainy  0.195918  0.224490  0.579592"
      ]
     },
     "execution_count": 7,
     "metadata": {},
     "output_type": "execute_result"
    }
   ],
   "source": [
    "# output: a_ij matrix\n",
    "a"
   ]
  },
  {
   "cell_type": "code",
   "execution_count": 8,
   "metadata": {},
   "outputs": [
    {
     "data": {
      "text/html": [
       "<div>\n",
       "<style scoped>\n",
       "    .dataframe tbody tr th:only-of-type {\n",
       "        vertical-align: middle;\n",
       "    }\n",
       "\n",
       "    .dataframe tbody tr th {\n",
       "        vertical-align: top;\n",
       "    }\n",
       "\n",
       "    .dataframe thead th {\n",
       "        text-align: right;\n",
       "    }\n",
       "</style>\n",
       "<table border=\"1\" class=\"dataframe\">\n",
       "  <thead>\n",
       "    <tr style=\"text-align: right;\">\n",
       "      <th>emission</th>\n",
       "      <th>yes</th>\n",
       "      <th>no</th>\n",
       "    </tr>\n",
       "    <tr>\n",
       "      <th>state</th>\n",
       "      <th></th>\n",
       "      <th></th>\n",
       "    </tr>\n",
       "  </thead>\n",
       "  <tbody>\n",
       "    <tr>\n",
       "      <td>sunny</td>\n",
       "      <td>0.085020</td>\n",
       "      <td>0.914980</td>\n",
       "    </tr>\n",
       "    <tr>\n",
       "      <td>foggy</td>\n",
       "      <td>0.302682</td>\n",
       "      <td>0.697318</td>\n",
       "    </tr>\n",
       "    <tr>\n",
       "      <td>rainy</td>\n",
       "      <td>0.812245</td>\n",
       "      <td>0.187755</td>\n",
       "    </tr>\n",
       "  </tbody>\n",
       "</table>\n",
       "</div>"
      ],
      "text/plain": [
       "emission       yes        no\n",
       "state                       \n",
       "sunny     0.085020  0.914980\n",
       "foggy     0.302682  0.697318\n",
       "rainy     0.812245  0.187755"
      ]
     },
     "execution_count": 8,
     "metadata": {},
     "output_type": "execute_result"
    }
   ],
   "source": [
    "# output: b_jk matrix\n",
    "b"
   ]
  },
  {
   "cell_type": "code",
   "execution_count": 9,
   "metadata": {},
   "outputs": [
    {
     "data": {
      "text/plain": [
       "0.015229218224799322"
      ]
     },
     "execution_count": 9,
     "metadata": {},
     "output_type": "execute_result"
    }
   ],
   "source": [
    "# output: probability of the HMM producing the given visible state\n",
    "probability_of_sequence"
   ]
  },
  {
   "cell_type": "code",
   "execution_count": 10,
   "metadata": {},
   "outputs": [
    {
     "data": {
      "text/plain": [
       "'sunny sunny rainy sunny'"
      ]
     },
     "execution_count": 10,
     "metadata": {},
     "output_type": "execute_result"
    }
   ],
   "source": [
    "# output: sequence of hidden states that given visible states generate\n",
    "most_likely_sequence"
   ]
  }
 ],
 "metadata": {
  "kernelspec": {
   "display_name": "perceptron",
   "language": "python",
   "name": "perceptron"
  },
  "language_info": {
   "codemirror_mode": {
    "name": "ipython",
    "version": 3
   },
   "file_extension": ".py",
   "mimetype": "text/x-python",
   "name": "python",
   "nbconvert_exporter": "python",
   "pygments_lexer": "ipython3",
   "version": "3.7.3"
  }
 },
 "nbformat": 4,
 "nbformat_minor": 2
}
